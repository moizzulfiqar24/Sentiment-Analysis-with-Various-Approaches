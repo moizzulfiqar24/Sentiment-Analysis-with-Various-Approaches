{
 "cells": [
  {
   "cell_type": "code",
   "execution_count": 2,
   "metadata": {},
   "outputs": [],
   "source": [
    "# Import necessary libraries\n",
    "import pandas as pd\n",
    "import numpy as np\n",
    "from nltk.corpus import stopwords\n",
    "from nltk.tokenize import word_tokenize\n",
    "import string\n",
    "from sklearn.ensemble import RandomForestClassifier\n",
    "from sklearn.naive_bayes import GaussianNB\n",
    "from sklearn.neighbors import KNeighborsClassifier\n",
    "from sklearn.metrics import accuracy_score\n",
    "from sklearn.preprocessing import LabelEncoder\n",
    "import ast\n",
    "import re\n",
    "import time\n",
    "\n",
    "# Load datasets\n",
    "train_df = pd.read_csv('../Data/train.csv')\n",
    "test_df = pd.read_csv('../Data/test.csv')\n",
    "\n",
    "# Preprocess text\n",
    "def clean_text(text):\n",
    "    text = text.lower()\n",
    "    text = re.sub(r'\\d+', '', text)  # Remove digits\n",
    "    text = text.translate(str.maketrans('', '', string.punctuation))\n",
    "    tokens = word_tokenize(text)\n",
    "    tokens = [word for word in tokens if word not in stopwords.words('english')]\n",
    "    return tokens\n",
    "\n",
    "train_df['review'] = train_df['review'].apply(clean_text)\n",
    "test_df['review'] = test_df['review'].apply(clean_text)"
   ]
  },
  {
   "cell_type": "code",
   "execution_count": 3,
   "metadata": {},
   "outputs": [],
   "source": [
    "# Load pre-trained GloVe embeddings\n",
    "def load_glove_embeddings(glove_file):\n",
    "    embeddings = {}\n",
    "    with open(glove_file, 'r', encoding='utf-8') as f:\n",
    "        for line in f:\n",
    "            values = line.split()\n",
    "            word = values[0]\n",
    "            vector = np.asarray(values[1:], dtype='float32')\n",
    "            embeddings[word] = vector\n",
    "    return embeddings\n",
    "\n",
    "glove_embeddings = load_glove_embeddings('../Data/glove.6B.100d.txt')\n",
    "\n",
    "# Function to create averaged word vectors\n",
    "def feature_vector(words, embeddings, vector_size=100):\n",
    "    feature_vec = np.zeros(vector_size, dtype=\"float32\")\n",
    "    nwords = 0\n",
    "    for word in words:\n",
    "        if word in embeddings:\n",
    "            nwords += 1\n",
    "            feature_vec = np.add(feature_vec, embeddings[word])\n",
    "    if nwords > 0:\n",
    "        feature_vec = np.divide(feature_vec, nwords)\n",
    "    return feature_vec\n",
    "\n",
    "def get_avg_feature_vectors(reviews, embeddings, vector_size=100):\n",
    "    review_feature_vecs = np.zeros((len(reviews), vector_size), dtype=\"float32\")\n",
    "    for i, review in enumerate(reviews):\n",
    "        review_feature_vecs[i] = feature_vector(review, embeddings, vector_size)\n",
    "    return review_feature_vecs\n",
    "\n",
    "# Generate feature vectors for both train and test data using GloVe embeddings\n",
    "train_data_vecs = get_avg_feature_vectors(train_df['review'], glove_embeddings)\n",
    "test_data_vecs = get_avg_feature_vectors(test_df['review'], glove_embeddings)\n",
    "\n",
    "# Save feature vectors\n",
    "np.save('trainDataVecs_glove.npy', train_data_vecs)\n",
    "np.save('testDataVecs_glove.npy', test_data_vecs)"
   ]
  },
  {
   "cell_type": "code",
   "execution_count": 4,
   "metadata": {},
   "outputs": [],
   "source": [
    "# Encode sentiment labels\n",
    "le = LabelEncoder()\n",
    "y_train = le.fit_transform(train_df['sentiment'])\n",
    "y_test = le.transform(test_df['sentiment'])\n",
    "\n",
    "# Save labels\n",
    "np.save('y_train.npy', y_train)\n",
    "np.save('y_test.npy', y_test)\n",
    "\n",
    "# Load feature vectors and labels for training\n",
    "X_train = np.load('trainDataVecs_glove.npy')\n",
    "X_test = np.load('testDataVecs_glove.npy')\n",
    "y_train = np.load('y_train.npy')\n",
    "y_test = np.load('y_test.npy')"
   ]
  },
  {
   "cell_type": "code",
   "execution_count": 5,
   "metadata": {},
   "outputs": [],
   "source": [
    "# Function to train and evaluate a model\n",
    "def train_evaluate_model(model, X_train, y_train, X_test, y_test, model_name='Model'):\n",
    "    start = time.time()\n",
    "    model.fit(X_train, y_train)\n",
    "    end = time.time()\n",
    "    predictions = model.predict(X_test)\n",
    "    accuracy = accuracy_score(y_test, predictions)\n",
    "    print(f\"{model_name} Accuracy: {accuracy:.4f}\")\n",
    "    print(f\"{model_name} Time: {end-start:} seconds\")"
   ]
  },
  {
   "cell_type": "code",
   "execution_count": 6,
   "metadata": {},
   "outputs": [
    {
     "name": "stdout",
     "output_type": "stream",
     "text": [
      "Random Forest Accuracy: 0.7634\n",
      "Random Forest Time: 21.638729095458984 seconds\n"
     ]
    }
   ],
   "source": [
    "# Train and evaluate Random Forest\n",
    "train_evaluate_model(RandomForestClassifier(n_estimators=100), X_train, y_train, X_test, y_test, 'Random Forest')"
   ]
  },
  {
   "cell_type": "code",
   "execution_count": 7,
   "metadata": {},
   "outputs": [
    {
     "name": "stdout",
     "output_type": "stream",
     "text": [
      "Naive Bayes Accuracy: 0.7149\n",
      "Naive Bayes Time: 0.012629985809326172 seconds\n"
     ]
    }
   ],
   "source": [
    "# Train and evaluate Naive Bayes\n",
    "train_evaluate_model(GaussianNB(), X_train, y_train, X_test, y_test, 'Naive Bayes')"
   ]
  },
  {
   "cell_type": "code",
   "execution_count": 8,
   "metadata": {},
   "outputs": [
    {
     "name": "stdout",
     "output_type": "stream",
     "text": [
      "k-NN Accuracy: 0.7298\n",
      "k-NN Time: 0.005006074905395508 seconds\n"
     ]
    }
   ],
   "source": [
    "# Train and evaluate k-NN\n",
    "train_evaluate_model(KNeighborsClassifier(n_neighbors=5), X_train, y_train, X_test, y_test, 'k-NN')"
   ]
  }
 ],
 "metadata": {
  "kernelspec": {
   "display_name": "Python 3",
   "language": "python",
   "name": "python3"
  },
  "language_info": {
   "codemirror_mode": {
    "name": "ipython",
    "version": 3
   },
   "file_extension": ".py",
   "mimetype": "text/x-python",
   "name": "python",
   "nbconvert_exporter": "python",
   "pygments_lexer": "ipython3",
   "version": "3.11.4"
  }
 },
 "nbformat": 4,
 "nbformat_minor": 2
}
