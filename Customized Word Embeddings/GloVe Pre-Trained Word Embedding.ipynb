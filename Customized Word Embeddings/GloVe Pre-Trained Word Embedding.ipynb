{
 "cells": [
  {
   "cell_type": "code",
   "execution_count": 9,
   "metadata": {},
   "outputs": [
    {
     "name": "stdout",
     "output_type": "stream",
     "text": [
      "Loading Glove Model\n",
      "Done. 400000  words loaded!\n"
     ]
    }
   ],
   "source": [
    "# Import necessary libraries\n",
    "import pandas as pd\n",
    "import numpy as np\n",
    "from nltk.corpus import stopwords\n",
    "from nltk.tokenize import word_tokenize\n",
    "import string\n",
    "from sklearn.ensemble import RandomForestClassifier\n",
    "from sklearn.naive_bayes import GaussianNB\n",
    "from sklearn.neighbors import KNeighborsClassifier\n",
    "from sklearn.metrics import accuracy_score\n",
    "from sklearn.preprocessing import LabelEncoder\n",
    "import ast\n",
    "import re\n",
    "import time\n",
    "\n",
    "# Load datasets\n",
    "train_df = pd.read_csv('../Data/train.csv')\n",
    "test_df = pd.read_csv('../Data/test.csv')\n",
    "\n",
    "# Load GloVe model\n",
    "def load_glove_model(glove_file):\n",
    "    print(\"Loading Glove Model\")\n",
    "    f = open(glove_file,'r', encoding='utf8')\n",
    "    model = {}\n",
    "    for line in f:\n",
    "        split_line = line.split()\n",
    "        word = split_line[0]\n",
    "        embedding = np.array([float(val) for val in split_line[1:]])\n",
    "        model[word] = embedding\n",
    "    print(\"Done.\",len(model),\" words loaded!\")\n",
    "    return model\n",
    "\n",
    "glove_model = load_glove_model('../Data/glove.6B.100d.txt')\n",
    "\n",
    "# Preprocess text\n",
    "def clean_text(text):\n",
    "    text = text.lower()\n",
    "    text = re.sub(r'\\d+', '', text)  # Remove digits\n",
    "    text = text.translate(str.maketrans('', '', string.punctuation))\n",
    "    tokens = word_tokenize(text)\n",
    "    tokens = [word for word in tokens if word not in stopwords.words('english')]\n",
    "    return tokens\n",
    "\n",
    "train_df['review'] = train_df['review'].apply(clean_text)\n",
    "test_df['review'] = test_df['review'].apply(clean_text)"
   ]
  },
  {
   "cell_type": "code",
   "execution_count": 10,
   "metadata": {},
   "outputs": [],
   "source": [
    "# Function to create averaged word vectors using GloVe\n",
    "def feature_vector(words, model):\n",
    "    featureVec = np.zeros((100,), dtype=\"float32\") \n",
    "    nwords = 0\n",
    "    for word in words:\n",
    "        if word in model:\n",
    "            nwords += 1\n",
    "            featureVec = np.add(featureVec, model[word])\n",
    "    if nwords > 0:\n",
    "        featureVec = np.divide(featureVec, nwords)\n",
    "    return featureVec\n",
    "\n",
    "def get_avg_feature_vectors(reviews, model):\n",
    "    reviewFeatureVecs = np.zeros((len(reviews), 100), dtype=\"float32\") \n",
    "    for i, review in enumerate(reviews):\n",
    "        reviewFeatureVecs[i] = feature_vector(review, model)\n",
    "    return reviewFeatureVecs\n",
    "\n",
    "# Generate feature vectors for both train and test data using GloVe\n",
    "trainDataVecs = get_avg_feature_vectors(train_df['review'], glove_model)\n",
    "testDataVecs = get_avg_feature_vectors(test_df['review'], glove_model)\n",
    "\n",
    "# Save feature vectors\n",
    "np.save('trainDataVecs_glove.npy', trainDataVecs)\n",
    "np.save('testDataVecs_glove.npy', testDataVecs)"
   ]
  },
  {
   "cell_type": "code",
   "execution_count": 11,
   "metadata": {},
   "outputs": [],
   "source": [
    "# Encode sentiment labels\n",
    "le = LabelEncoder()\n",
    "y_train = le.fit_transform(train_df['sentiment'])\n",
    "y_test = le.transform(test_df['sentiment'])\n",
    "\n",
    "# Save labels\n",
    "np.save('y_train.npy', y_train)\n",
    "np.save('y_test.npy', y_test)\n",
    "\n",
    "# Load feature vectors and labels for training\n",
    "X_train = np.load('trainDataVecs_glove.npy')\n",
    "X_test = np.load('testDataVecs_glove.npy')\n",
    "y_train = np.load('y_train.npy')\n",
    "y_test = np.load('y_test.npy')\n",
    "\n",
    "# Train and evaluate models (Random Forest, Naive Bayes, k-NN) using the same function as before\n",
    "def train_evaluate_model(model, X_train, y_train, X_test, y_test, model_name='Model'):\n",
    "    start = time.time()\n",
    "    model.fit(X_train, y_train)\n",
    "    end = time.time()\n",
    "    predictions = model.predict(X_test)\n",
    "    accuracy = accuracy_score(y_test, predictions)\n",
    "    print(f\"{model_name} Accuracy: {accuracy:.4f}\")\n",
    "    print(f\"{model_name} Time: {end-start:.2f} seconds\")\n"
   ]
  },
  {
   "cell_type": "code",
   "execution_count": 12,
   "metadata": {},
   "outputs": [
    {
     "name": "stdout",
     "output_type": "stream",
     "text": [
      "Random Forest Accuracy: 0.7656\n",
      "Random Forest Time: 25.22 seconds\n"
     ]
    }
   ],
   "source": [
    "# Train and evaluate Random Forest\n",
    "train_evaluate_model(RandomForestClassifier(n_estimators=100), X_train, y_train, X_test, y_test, 'Random Forest')"
   ]
  },
  {
   "cell_type": "code",
   "execution_count": 13,
   "metadata": {},
   "outputs": [
    {
     "name": "stdout",
     "output_type": "stream",
     "text": [
      "Naive Bayes Accuracy: 0.7149\n",
      "Naive Bayes Time: 0.02 seconds\n"
     ]
    }
   ],
   "source": [
    "# Train and evaluate Naive Bayes\n",
    "train_evaluate_model(GaussianNB(), X_train, y_train, X_test, y_test, 'Naive Bayes')"
   ]
  },
  {
   "cell_type": "code",
   "execution_count": 14,
   "metadata": {},
   "outputs": [
    {
     "name": "stdout",
     "output_type": "stream",
     "text": [
      "k-NN Accuracy: 0.7298\n",
      "k-NN Time: 0.00 seconds\n"
     ]
    }
   ],
   "source": [
    "# Train and evaluate k-NN\n",
    "train_evaluate_model(KNeighborsClassifier(n_neighbors=5), X_train, y_train, X_test, y_test, 'k-NN')"
   ]
  }
 ],
 "metadata": {
  "kernelspec": {
   "display_name": "Python 3",
   "language": "python",
   "name": "python3"
  },
  "language_info": {
   "codemirror_mode": {
    "name": "ipython",
    "version": 3
   },
   "file_extension": ".py",
   "mimetype": "text/x-python",
   "name": "python",
   "nbconvert_exporter": "python",
   "pygments_lexer": "ipython3",
   "version": "3.11.4"
  }
 },
 "nbformat": 4,
 "nbformat_minor": 2
}
